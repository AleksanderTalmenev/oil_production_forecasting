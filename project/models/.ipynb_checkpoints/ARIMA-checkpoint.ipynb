{
 "cells": [
  {
   "cell_type": "code",
   "execution_count": 26,
   "id": "4d248333",
   "metadata": {},
   "outputs": [],
   "source": [
    "import pandas as pd\n",
    "import numpy as np\n",
    "from statsmodels.tsa.arima.model import ARIMA\n",
    "from functions.graph_with_prediction import graph_with_prediction"
   ]
  },
  {
   "cell_type": "code",
   "execution_count": 5,
   "id": "cceeecdd",
   "metadata": {},
   "outputs": [],
   "source": [
    "train_oil_year_accum_without_gaps = pd.read_csv('../../data/Преобразованные_данные/train_oil_year_accum_without_gaps.csv')\n",
    "train_oil_year_accum_without_gaps.head()"
   ]
  },
  {
   "cell_type": "code",
   "execution_count": 22,
   "id": "e2d6a2f7",
   "metadata": {},
   "outputs": [
    {
     "data": {
      "text/plain": [
       "(124, 289)"
      ]
     },
     "execution_count": 22,
     "metadata": {},
     "output_type": "execute_result"
    }
   ],
   "source": [
    "data = train_oil_year_accum_without_gaps[train_oil_year_accum_without_gaps['WELL_NAME'] == 1][['MEASURED_IN_DATE', 'OIL_RATE']]\n",
    "data.set_index('MEASURED_IN_DATE', drop=True, inplace=True)\n",
    "\n",
    "total_train  = int(0.7 * data.shape[0])\n",
    "\n",
    "y_train, y_test = data[: total_train], data[total_train :]"
   ]
  },
  {
   "cell_type": "code",
   "execution_count": null,
   "id": "0da94684",
   "metadata": {},
   "outputs": [],
   "source": [
    "arima = ARIMA(y_train, order=(1, 1, 1), seasonal_order=(1, 2, 3, 4), freq='D')\n",
    "arima_fit = arima.fit()\n",
    "forecast = arima_fit.forecast( y_test.shape[0])"
   ]
  },
  {
   "cell_type": "code",
   "execution_count": null,
   "id": "51a681b0",
   "metadata": {},
   "outputs": [],
   "source": [
    "graph_with_prediction(y_train=y_train['OIL_RATE'], \n",
    "                      y_test=y_test['OIL_RATE'],\n",
    "                      answer_model=forecast,\n",
    "                      model_name='ARIMA')"
   ]
  }
 ],
 "metadata": {
  "kernelspec": {
   "display_name": "Python 3 (ipykernel)",
   "language": "python",
   "name": "python3"
  },
  "language_info": {
   "codemirror_mode": {
    "name": "ipython",
    "version": 3
   },
   "file_extension": ".py",
   "mimetype": "text/x-python",
   "name": "python",
   "nbconvert_exporter": "python",
   "pygments_lexer": "ipython3",
   "version": "3.10.2"
  }
 },
 "nbformat": 4,
 "nbformat_minor": 5
}
